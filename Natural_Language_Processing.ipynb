{
 "cells": [
  {
   "cell_type": "markdown",
   "metadata": {},
   "source": [
    "<img style=\"float: left; margin-left: -10px; margin-top: -10px\" src=\"yelp-logo-27.png\"  width=50>\n",
    "\n",
    "# Natural Language Processing\n",
    "\n",
    "In this notebook we will now go through the text data in the reviews and class/business descriptions. By preprocessing this data and using the NLP tools provided to us through *__Spacy__* and __*NLTK*__ we will be able to derive some meaning from the text to *hopefully* improve our models.\n",
    "\n",
    "The steps involved in this are as follows: \n",
    "\n",
    "1. word count\n",
    "2. character count\n",
    "3. Number of numerics\n",
    "4. Number of upper case\n",
    "5. Number of Exclamation Points (!)\n",
    "7. Count of stop words\n",
    "8. drop stop words\n",
    "9. lemmetize our words\n",
    "10. TF-IDF\n",
    "11. Sentiment Analysis\n",
    "\n",
    "#### Import needed libraries:"
   ]
  },
  {
   "cell_type": "code",
   "execution_count": 1,
   "metadata": {},
   "outputs": [],
   "source": [
    "import pandas as pd\n",
    "import numpy as np\n",
    "import spacy\n",
    "import pickle\n",
    "from Mod_5_functions import pickle_file,open_pickle,clean_text_column\n",
    "from nltk.corpus import stopwords\n",
    "\n",
    "# Load English tokenizer, tagger, parser, NER and word vectors\n",
    "nlp = spacy.load(\"en_core_web_sm\")"
   ]
  },
  {
   "cell_type": "markdown",
   "metadata": {},
   "source": [
    "#### Import the pickled DataFrames:"
   ]
  },
  {
   "cell_type": "code",
   "execution_count": 2,
   "metadata": {},
   "outputs": [],
   "source": [
    "bus_reviews_df = open_pickle('Data/filtered_data_2.pkl')\n",
    "user_reviews_df = open_pickle('Data/filtered_user_data.pkl')"
   ]
  },
  {
   "cell_type": "markdown",
   "metadata": {},
   "source": [
    "#### 1. word count:"
   ]
  },
  {
   "cell_type": "code",
   "execution_count": 3,
   "metadata": {},
   "outputs": [],
   "source": [
    "user_reviews_df['word_count'] = user_reviews_df.rev_comp_reviews.apply(lambda x: len(str(x).split(' ')))"
   ]
  },
  {
   "cell_type": "markdown",
   "metadata": {},
   "source": [
    "#### 2. character count\n"
   ]
  },
  {
   "cell_type": "code",
   "execution_count": 4,
   "metadata": {
    "collapsed": true
   },
   "outputs": [],
   "source": [
    "user_reviews_df['char_count'] = user_reviews_df.rev_comp_reviews.str.len() #this includes the spaces"
   ]
  },
  {
   "cell_type": "markdown",
   "metadata": {},
   "source": [
    "#### 3. Number of numerics\n"
   ]
  },
  {
   "cell_type": "code",
   "execution_count": 5,
   "metadata": {
    "collapsed": true
   },
   "outputs": [],
   "source": [
    "user_reviews_df['numerics'] = user_reviews_df.rev_comp_reviews.apply(lambda x: len([x for x in x.split() if x.isdigit()]))"
   ]
  },
  {
   "cell_type": "markdown",
   "metadata": {},
   "source": [
    "#### 4. Number of upper case\n"
   ]
  },
  {
   "cell_type": "code",
   "execution_count": 6,
   "metadata": {
    "collapsed": true
   },
   "outputs": [],
   "source": [
    "user_reviews_df['upper'] = user_reviews_df.rev_comp_reviews.apply(lambda x: len([x for x in x.split() if x.isupper()]))"
   ]
  },
  {
   "cell_type": "markdown",
   "metadata": {},
   "source": [
    "#### 5. Number of Exclamation Points (!)\n"
   ]
  },
  {
   "cell_type": "code",
   "execution_count": 7,
   "metadata": {
    "collapsed": true
   },
   "outputs": [],
   "source": [
    "user_reviews_df['bangs'] = user_reviews_df.rev_comp_reviews.apply(lambda x: len([x for x in x.split('!')]) - 1 )"
   ]
  },
  {
   "cell_type": "markdown",
   "metadata": {},
   "source": [
    "#### 6. Count of stop words\n"
   ]
  },
  {
   "cell_type": "code",
   "execution_count": 8,
   "metadata": {
    "collapsed": true
   },
   "outputs": [],
   "source": [
    "stop = stopwords.words('english')\n",
    "\n",
    "user_reviews_df['stp_wrd_cnt'] = user_reviews_df.rev_comp_reviews.apply(lambda x: \n",
    "                                                                        len([x for x in x.split() if x in stop]))"
   ]
  },
  {
   "cell_type": "code",
   "execution_count": 9,
   "metadata": {},
   "outputs": [
    {
     "data": {
      "text/html": [
       "<div>\n",
       "<style scoped>\n",
       "    .dataframe tbody tr th:only-of-type {\n",
       "        vertical-align: middle;\n",
       "    }\n",
       "\n",
       "    .dataframe tbody tr th {\n",
       "        vertical-align: top;\n",
       "    }\n",
       "\n",
       "    .dataframe thead th {\n",
       "        text-align: right;\n",
       "    }\n",
       "</style>\n",
       "<table border=\"1\" class=\"dataframe\">\n",
       "  <thead>\n",
       "    <tr style=\"text-align: right;\">\n",
       "      <th></th>\n",
       "      <th>comapny_source</th>\n",
       "      <th>company_loc</th>\n",
       "      <th>rev_comp_rating</th>\n",
       "      <th>rev_comp_reviews</th>\n",
       "      <th>rev_comp_url</th>\n",
       "      <th>rev_company_name</th>\n",
       "      <th>userUrl</th>\n",
       "      <th>word_count</th>\n",
       "      <th>char_count</th>\n",
       "      <th>numerics</th>\n",
       "      <th>upper</th>\n",
       "      <th>bangs</th>\n",
       "      <th>stp_wrd_cnt</th>\n",
       "    </tr>\n",
       "  </thead>\n",
       "  <tbody>\n",
       "    <tr>\n",
       "      <th>0</th>\n",
       "      <td>Peloton</td>\n",
       "      <td>370 Canal St New York, NY 10013</td>\n",
       "      <td>3.0</td>\n",
       "      <td>Planet Fitness is an affordable, no frills gym...</td>\n",
       "      <td>https://www.yelp.com/biz/planet-fitness-manhat...</td>\n",
       "      <td>Planet Fitness - Manhattan - Canal St - NY</td>\n",
       "      <td>https://www.yelp.com/user_details?userid=exPhu...</td>\n",
       "      <td>219</td>\n",
       "      <td>1189</td>\n",
       "      <td>0</td>\n",
       "      <td>5</td>\n",
       "      <td>0</td>\n",
       "      <td>100</td>\n",
       "    </tr>\n",
       "    <tr>\n",
       "      <th>1</th>\n",
       "      <td>Peloton</td>\n",
       "      <td>90 E 10th St New York, NY 10003</td>\n",
       "      <td>2.0</td>\n",
       "      <td>I purchased a Groupon for a friend and I. When...</td>\n",
       "      <td>https://www.yelp.com/biz/montauk-salt-cave-new...</td>\n",
       "      <td>Montauk Salt Cave</td>\n",
       "      <td>https://www.yelp.com/user_details?userid=exPhu...</td>\n",
       "      <td>791</td>\n",
       "      <td>4417</td>\n",
       "      <td>2</td>\n",
       "      <td>19</td>\n",
       "      <td>4</td>\n",
       "      <td>331</td>\n",
       "    </tr>\n",
       "    <tr>\n",
       "      <th>2</th>\n",
       "      <td>Peloton</td>\n",
       "      <td>1841 Broadway New York, NY 11023</td>\n",
       "      <td>3.0</td>\n",
       "      <td>I enjoyed my class, but this was one of my lea...</td>\n",
       "      <td>https://www.yelp.com/biz/pure-barre-new-york-c...</td>\n",
       "      <td>Pure Barre - New York Columbus Circle - 60th &amp;...</td>\n",
       "      <td>https://www.yelp.com/user_details?userid=exPhu...</td>\n",
       "      <td>88</td>\n",
       "      <td>480</td>\n",
       "      <td>0</td>\n",
       "      <td>2</td>\n",
       "      <td>0</td>\n",
       "      <td>39</td>\n",
       "    </tr>\n",
       "    <tr>\n",
       "      <th>3</th>\n",
       "      <td>Peloton</td>\n",
       "      <td>19 W 45th St New York, NY 10036</td>\n",
       "      <td>4.0</td>\n",
       "      <td>I came in for their Pilates Mat Fundamental cl...</td>\n",
       "      <td>https://www.yelp.com/biz/return-to-life-center...</td>\n",
       "      <td>Return To Life Center - Pilates and Functional...</td>\n",
       "      <td>https://www.yelp.com/user_details?userid=exPhu...</td>\n",
       "      <td>106</td>\n",
       "      <td>584</td>\n",
       "      <td>0</td>\n",
       "      <td>2</td>\n",
       "      <td>2</td>\n",
       "      <td>39</td>\n",
       "    </tr>\n",
       "    <tr>\n",
       "      <th>4</th>\n",
       "      <td>Peloton</td>\n",
       "      <td>140 W 23rd St New York, NY 10011</td>\n",
       "      <td>4.0</td>\n",
       "      <td>I came in for my first Peloton class awhile ba...</td>\n",
       "      <td>https://www.yelp.com/biz/peloton-new-york</td>\n",
       "      <td>Peloton</td>\n",
       "      <td>https://www.yelp.com/user_details?userid=exPhu...</td>\n",
       "      <td>206</td>\n",
       "      <td>1137</td>\n",
       "      <td>0</td>\n",
       "      <td>9</td>\n",
       "      <td>1</td>\n",
       "      <td>91</td>\n",
       "    </tr>\n",
       "  </tbody>\n",
       "</table>\n",
       "</div>"
      ],
      "text/plain": [
       "  comapny_source                       company_loc  rev_comp_rating  \\\n",
       "0        Peloton   370 Canal St New York, NY 10013              3.0   \n",
       "1        Peloton   90 E 10th St New York, NY 10003              2.0   \n",
       "2        Peloton  1841 Broadway New York, NY 11023              3.0   \n",
       "3        Peloton   19 W 45th St New York, NY 10036              4.0   \n",
       "4        Peloton  140 W 23rd St New York, NY 10011              4.0   \n",
       "\n",
       "                                    rev_comp_reviews  \\\n",
       "0  Planet Fitness is an affordable, no frills gym...   \n",
       "1  I purchased a Groupon for a friend and I. When...   \n",
       "2  I enjoyed my class, but this was one of my lea...   \n",
       "3  I came in for their Pilates Mat Fundamental cl...   \n",
       "4  I came in for my first Peloton class awhile ba...   \n",
       "\n",
       "                                        rev_comp_url  \\\n",
       "0  https://www.yelp.com/biz/planet-fitness-manhat...   \n",
       "1  https://www.yelp.com/biz/montauk-salt-cave-new...   \n",
       "2  https://www.yelp.com/biz/pure-barre-new-york-c...   \n",
       "3  https://www.yelp.com/biz/return-to-life-center...   \n",
       "4          https://www.yelp.com/biz/peloton-new-york   \n",
       "\n",
       "                                    rev_company_name  \\\n",
       "0         Planet Fitness - Manhattan - Canal St - NY   \n",
       "1                                  Montauk Salt Cave   \n",
       "2  Pure Barre - New York Columbus Circle - 60th &...   \n",
       "3  Return To Life Center - Pilates and Functional...   \n",
       "4                                            Peloton   \n",
       "\n",
       "                                             userUrl  word_count  char_count  \\\n",
       "0  https://www.yelp.com/user_details?userid=exPhu...         219        1189   \n",
       "1  https://www.yelp.com/user_details?userid=exPhu...         791        4417   \n",
       "2  https://www.yelp.com/user_details?userid=exPhu...          88         480   \n",
       "3  https://www.yelp.com/user_details?userid=exPhu...         106         584   \n",
       "4  https://www.yelp.com/user_details?userid=exPhu...         206        1137   \n",
       "\n",
       "   numerics  upper  bangs  stp_wrd_cnt  \n",
       "0         0      5      0          100  \n",
       "1         2     19      4          331  \n",
       "2         0      2      0           39  \n",
       "3         0      2      2           39  \n",
       "4         0      9      1           91  "
      ]
     },
     "execution_count": 9,
     "metadata": {},
     "output_type": "execute_result"
    }
   ],
   "source": [
    "user_reviews_df.head()"
   ]
  },
  {
   "cell_type": "markdown",
   "metadata": {},
   "source": [
    "### Data Preprocessing\n",
    "\n",
    "Next, we need to move into data cleaning. This section will be very important for the remaineder of this project and the models we run. In the next few cells we will:\n",
    "1. create a function to remove all punction\n",
    "2. lower case all of the words in our messages\n",
    "3. remove stop words\n",
    "4. check for spelling and correct where needed\n",
    "5. remove frequent\n",
    "6. remove rare/uncommon words\n",
    "\n",
    "\n",
    "#### 1) and 2) get rid of special charaters and lower case:\n",
    "\n",
    "Use the function *clean_text_column*, which we imported above."
   ]
  },
  {
   "cell_type": "code",
   "execution_count": 11,
   "metadata": {
    "collapsed": true
   },
   "outputs": [],
   "source": [
    "user_reviews_df.rev_comp_reviews = user_reviews_df.rev_comp_reviews.apply(lambda row: clean_text_column(row))"
   ]
  },
  {
   "cell_type": "markdown",
   "metadata": {},
   "source": [
    "#### 8. drop stop words\n"
   ]
  },
  {
   "cell_type": "code",
   "execution_count": 13,
   "metadata": {},
   "outputs": [],
   "source": [
    "stop = stopwords.words('english') #loads the stop words for the english language\n",
    "user_reviews_df.rev_comp_reviews = user_reviews_df.rev_comp_reviews.apply(lambda x: \" \".join(x for x in x.split() if x not in stop)) \n",
    "#returns only words that are not in the list of stop words"
   ]
  },
  {
   "cell_type": "markdown",
   "metadata": {},
   "source": [
    "#### 9. lemmetize our words\n"
   ]
  },
  {
   "cell_type": "code",
   "execution_count": 15,
   "metadata": {
    "collapsed": true
   },
   "outputs": [],
   "source": [
    "def return_lemma(review,nlp):\n",
    "    doc = nlp(review)\n",
    "    return ' '.join([word.lemma_ for word in doc])"
   ]
  },
  {
   "cell_type": "code",
   "execution_count": 16,
   "metadata": {
    "collapsed": true
   },
   "outputs": [],
   "source": [
    "nlp = spacy.load('en_core_web_sm')\n",
    "user_reviews_df.rev_comp_reviews = user_reviews_df.rev_comp_reviews.apply(lambda x: return_lemma(x,nlp))\n"
   ]
  },
  {
   "cell_type": "markdown",
   "metadata": {},
   "source": [
    "#### 10. TF-IDF\n"
   ]
  },
  {
   "cell_type": "code",
   "execution_count": null,
   "metadata": {
    "collapsed": true
   },
   "outputs": [],
   "source": []
  },
  {
   "cell_type": "markdown",
   "metadata": {},
   "source": [
    "#### 11. Sentiment Analysis"
   ]
  },
  {
   "cell_type": "code",
   "execution_count": 17,
   "metadata": {},
   "outputs": [
    {
     "data": {
      "text/plain": [
       "0        planet fitness affordable frill gym happy opti...\n",
       "1        purchase groupon friend call book receptionist...\n",
       "2        enjoy class one least favorite barre studio si...\n",
       "3        come pilate mat fundamental class love -PRON- ...\n",
       "4        come first peloton class awhile back completel...\n",
       "5        find sonic class pass donation base class happ...\n",
       "6        think think stereotypical yoga studio mean goo...\n",
       "7        jesus sign burn barre class nicole classpass d...\n",
       "8        wow place really gorgeous come flow yoga basic...\n",
       "9        think favorite barre class yet sign classpass ...\n",
       "10       two star may seem harsh -PRON- will see nothin...\n",
       "11       -PRON- have use classpass week rating sort bas...\n",
       "12       sign first ever barre class classpass great ti...\n",
       "13       second barre class love pure barre classic sop...\n",
       "14       jesus much fun come see force majeure vaudevil...\n",
       "15       buy fitness pass one gym include pass rock fri...\n",
       "16       grow come make sad know well even go sleep awa...\n",
       "17       -PRON- have avid street cyclist brooklyn bear ...\n",
       "18       richie local oldschool gym area -PRON- have co...\n",
       "19       come friend ever since hser staff really patie...\n",
       "20       class basically like physical therapy great ra...\n",
       "21       holy mose dead class could afford go every day...\n",
       "22       come classpass think take beginner class first...\n",
       "23       tldr -PRON- be look dance metric reasonable co...\n",
       "24       tldr cool experience single class do not expec...\n",
       "25       peloton good surprise yet -PRON- have know pel...\n",
       "26       come week last visit although review come late...\n",
       "27       know hesitant come love run outside hate run t...\n",
       "28       take first class today -PRON- be totally fan j...\n",
       "29       come nyd take class get new year start right w...\n",
       "                               ...                        \n",
       "15692    give three star primarily disappointed lesson ...\n",
       "15693    good price less 10week butthe class crowd inst...\n",
       "15694    gym small compact get annoying time efficient ...\n",
       "15695    gym great everyone friendly equipment great us...\n",
       "15696    one nicer gym area come month month membership...\n",
       "15697    place kinda suck staff quite rude unprofession...\n",
       "15698    email website three week ago receive response ...\n",
       "15699    -PRON- be sure everyone else seem think gym se...\n",
       "15700    would never notice spot outside since look lik...\n",
       "15701    come past 2 month sign year offer good monthly...\n",
       "15702    gym best deal pretty bad situation old gym syn...\n",
       "15703    first joined yelp write review experience syne...\n",
       "15704    -PRON- have gym twice train weight bad place h...\n",
       "15705    aside great indoor pool -PRON- be surprised an...\n",
       "15706    solid gym interested use free weight machine s...\n",
       "15707    absolutely love place spacious clean member co...\n",
       "15708    -PRON- have workedout fair share gym course 30...\n",
       "15709    take many class gym yoga sky great teacher dem...\n",
       "15710    change review upset situation audrey manager f...\n",
       "15711    gym small side get crowd really easy compare b...\n",
       "15712    new area visit location three time time come g...\n",
       "15713    -PRON- have go retro manville period since fir...\n",
       "15714    gym friendly staff greet smile clean unbroken ...\n",
       "15715    everything need gym clean spacious working mac...\n",
       "15716    single compliant aside 1 elliptical be not wor...\n",
       "15717    review first visit friendly staff equipment co...\n",
       "15718    great cardio great price friendly staff make f...\n",
       "15719    stop check place receptionist busy make call p...\n",
       "15720    love love love adam can not say enough wonderf...\n",
       "15721    great experience highly recommend malcolm gift...\n",
       "Name: rev_comp_reviews, Length: 15722, dtype: object"
      ]
     },
     "execution_count": 17,
     "metadata": {},
     "output_type": "execute_result"
    }
   ],
   "source": [
    "user_reviews_df.rev_comp_reviews"
   ]
  },
  {
   "cell_type": "code",
   "execution_count": null,
   "metadata": {
    "collapsed": true
   },
   "outputs": [],
   "source": []
  }
 ],
 "metadata": {
  "kernelspec": {
   "display_name": "Python 3",
   "language": "python",
   "name": "python3"
  },
  "language_info": {
   "codemirror_mode": {
    "name": "ipython",
    "version": 3
   },
   "file_extension": ".py",
   "mimetype": "text/x-python",
   "name": "python",
   "nbconvert_exporter": "python",
   "pygments_lexer": "ipython3",
   "version": "3.6.8"
  }
 },
 "nbformat": 4,
 "nbformat_minor": 2
}
