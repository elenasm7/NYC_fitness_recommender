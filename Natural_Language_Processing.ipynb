{
 "cells": [
  {
   "cell_type": "markdown",
   "metadata": {},
   "source": [
    "<img style=\"float:left;margin-left: -12px; margin-top: -10px\" src=\"yelp-logo-27.png\"  width=50>\n",
    "\n",
    "# Part 2: Natural Language Processing\n",
    "\n",
    "In this notebook we will now go through the text data in the reviews and class/business descriptions. By preprocessing this data and using the NLP tools provided to us through <span style=\"color:blue\">*__Spacy__*</span> and <span style=\"color:blue\">__*NLTK*__</span> we will be able to derive some meaning from the text to *hopefully* improve our models.\n",
    "\n",
    "The steps involved in this are as follows: \n",
    "\n",
    "1. word count\n",
    "2. character count\n",
    "3. Number of numerics\n",
    "4. Number of upper case\n",
    "5. Number of Exclamation Points (!)\n",
    "7. Count of stop words\n",
    "8. drop stop words\n",
    "9. lemmetize our words\n",
    "11. Class Imbalance and Sentiment Analysis\n",
    "# fix this seciton!! and section headers\n",
    "\n",
    "#### Import needed libraries:"
   ]
  },
  {
   "cell_type": "code",
   "execution_count": 121,
   "metadata": {},
   "outputs": [],
   "source": [
    "import pandas as pd\n",
    "import numpy as np\n",
    "import spacy\n",
    "import pickle\n",
    "from Mod_5_functions import (pickle_file,open_pickle,in_nyc,is_sample\n",
    "                             clean_text_column,return_lemma,replace_fixed_words)\n",
    "from nltk.corpus import stopwords\n",
    "from sklearn.feature_extraction.text import TfidfVectorizer\n",
    "import seaborn as sns\n",
    "import matplotlib.pyplot as plt \n",
    "import nltk\n",
    "from nltk.sentiment.vader import SentimentIntensityAnalyzer\n",
    "from tqdm._tqdm_notebook import tqdm_notebook\n",
    "%matplotlib inline\n",
    "\n",
    "# Load English tokenizer, tagger, parser, NER and word vectors\n",
    "nlp = spacy.load(\"en_core_web_sm\")"
   ]
  },
  {
   "cell_type": "markdown",
   "metadata": {},
   "source": [
    "#### Import the pickled DataFrames:"
   ]
  },
  {
   "cell_type": "code",
   "execution_count": 122,
   "metadata": {
    "collapsed": true
   },
   "outputs": [],
   "source": [
    "user_reviews_df = open_pickle('Data/filtered_user_data.pkl')"
   ]
  },
  {
   "cell_type": "markdown",
   "metadata": {},
   "source": [
    "#### 1. word count:"
   ]
  },
  {
   "cell_type": "code",
   "execution_count": 123,
   "metadata": {
    "collapsed": true
   },
   "outputs": [],
   "source": [
    "user_reviews_df['word_count'] = user_reviews_df.rev_comp_reviews.apply(lambda x: len(str(x).split(' ')))"
   ]
  },
  {
   "cell_type": "markdown",
   "metadata": {},
   "source": [
    "#### 2. character count\n"
   ]
  },
  {
   "cell_type": "code",
   "execution_count": 124,
   "metadata": {
    "collapsed": true
   },
   "outputs": [],
   "source": [
    "user_reviews_df['char_count'] = user_reviews_df.rev_comp_reviews.str.len() #this includes the spaces"
   ]
  },
  {
   "cell_type": "markdown",
   "metadata": {},
   "source": [
    "#### 3. Number of numerics\n"
   ]
  },
  {
   "cell_type": "code",
   "execution_count": 125,
   "metadata": {
    "collapsed": true
   },
   "outputs": [],
   "source": [
    "user_reviews_df['numerics'] = user_reviews_df.rev_comp_reviews.apply(lambda x: len([x for x in x.split() if x.isdigit()]))"
   ]
  },
  {
   "cell_type": "markdown",
   "metadata": {},
   "source": [
    "#### 4. Number of upper case\n"
   ]
  },
  {
   "cell_type": "code",
   "execution_count": 126,
   "metadata": {
    "collapsed": true
   },
   "outputs": [],
   "source": [
    "user_reviews_df['upper'] = user_reviews_df.rev_comp_reviews.apply(lambda x: len([x for x in x.split() if x.isupper()]))"
   ]
  },
  {
   "cell_type": "markdown",
   "metadata": {},
   "source": [
    "#### 5. Number of Exclamation Points (!)\n"
   ]
  },
  {
   "cell_type": "code",
   "execution_count": 127,
   "metadata": {
    "collapsed": true
   },
   "outputs": [],
   "source": [
    "user_reviews_df['bangs'] = user_reviews_df.rev_comp_reviews.apply(lambda x: len([x for x in x.split('!')]) - 1 )"
   ]
  },
  {
   "cell_type": "markdown",
   "metadata": {},
   "source": [
    "#### 6. Count of stop words\n"
   ]
  },
  {
   "cell_type": "code",
   "execution_count": 128,
   "metadata": {
    "collapsed": true
   },
   "outputs": [],
   "source": [
    "stop = stopwords.words('english')\n",
    "\n",
    "user_reviews_df['stp_wrd_cnt'] = user_reviews_df.rev_comp_reviews.apply(lambda x: \n",
    "                                                                        len([x for x in x.split() if x in stop]))"
   ]
  },
  {
   "cell_type": "code",
   "execution_count": 129,
   "metadata": {},
   "outputs": [
    {
     "data": {
      "text/html": [
       "<div>\n",
       "<style scoped>\n",
       "    .dataframe tbody tr th:only-of-type {\n",
       "        vertical-align: middle;\n",
       "    }\n",
       "\n",
       "    .dataframe tbody tr th {\n",
       "        vertical-align: top;\n",
       "    }\n",
       "\n",
       "    .dataframe thead th {\n",
       "        text-align: right;\n",
       "    }\n",
       "</style>\n",
       "<table border=\"1\" class=\"dataframe\">\n",
       "  <thead>\n",
       "    <tr style=\"text-align: right;\">\n",
       "      <th></th>\n",
       "      <th>comapny_source</th>\n",
       "      <th>company_loc</th>\n",
       "      <th>rev_comp_rating</th>\n",
       "      <th>rev_comp_reviews</th>\n",
       "      <th>rev_comp_url</th>\n",
       "      <th>rev_company_name</th>\n",
       "      <th>userUrl</th>\n",
       "      <th>word_count</th>\n",
       "      <th>char_count</th>\n",
       "      <th>numerics</th>\n",
       "      <th>upper</th>\n",
       "      <th>bangs</th>\n",
       "      <th>stp_wrd_cnt</th>\n",
       "    </tr>\n",
       "  </thead>\n",
       "  <tbody>\n",
       "    <tr>\n",
       "      <th>0</th>\n",
       "      <td>Peloton</td>\n",
       "      <td>370 Canal St New York, NY 10013</td>\n",
       "      <td>3.0</td>\n",
       "      <td>Planet Fitness is an affordable, no frills gym...</td>\n",
       "      <td>https://www.yelp.com/biz/planet-fitness-manhat...</td>\n",
       "      <td>Planet Fitness - Manhattan - Canal St - NY</td>\n",
       "      <td>https://www.yelp.com/user_details?userid=exPhu...</td>\n",
       "      <td>219</td>\n",
       "      <td>1189</td>\n",
       "      <td>0</td>\n",
       "      <td>5</td>\n",
       "      <td>0</td>\n",
       "      <td>100</td>\n",
       "    </tr>\n",
       "    <tr>\n",
       "      <th>1</th>\n",
       "      <td>Peloton</td>\n",
       "      <td>90 E 10th St New York, NY 10003</td>\n",
       "      <td>2.0</td>\n",
       "      <td>I purchased a Groupon for a friend and I. When...</td>\n",
       "      <td>https://www.yelp.com/biz/montauk-salt-cave-new...</td>\n",
       "      <td>Montauk Salt Cave</td>\n",
       "      <td>https://www.yelp.com/user_details?userid=exPhu...</td>\n",
       "      <td>791</td>\n",
       "      <td>4417</td>\n",
       "      <td>2</td>\n",
       "      <td>19</td>\n",
       "      <td>4</td>\n",
       "      <td>331</td>\n",
       "    </tr>\n",
       "    <tr>\n",
       "      <th>2</th>\n",
       "      <td>Peloton</td>\n",
       "      <td>1841 Broadway New York, NY 11023</td>\n",
       "      <td>3.0</td>\n",
       "      <td>I enjoyed my class, but this was one of my lea...</td>\n",
       "      <td>https://www.yelp.com/biz/pure-barre-new-york-c...</td>\n",
       "      <td>Pure Barre - New York Columbus Circle - 60th &amp;...</td>\n",
       "      <td>https://www.yelp.com/user_details?userid=exPhu...</td>\n",
       "      <td>88</td>\n",
       "      <td>480</td>\n",
       "      <td>0</td>\n",
       "      <td>2</td>\n",
       "      <td>0</td>\n",
       "      <td>39</td>\n",
       "    </tr>\n",
       "  </tbody>\n",
       "</table>\n",
       "</div>"
      ],
      "text/plain": [
       "  comapny_source                       company_loc  rev_comp_rating  \\\n",
       "0        Peloton   370 Canal St New York, NY 10013              3.0   \n",
       "1        Peloton   90 E 10th St New York, NY 10003              2.0   \n",
       "2        Peloton  1841 Broadway New York, NY 11023              3.0   \n",
       "\n",
       "                                    rev_comp_reviews  \\\n",
       "0  Planet Fitness is an affordable, no frills gym...   \n",
       "1  I purchased a Groupon for a friend and I. When...   \n",
       "2  I enjoyed my class, but this was one of my lea...   \n",
       "\n",
       "                                        rev_comp_url  \\\n",
       "0  https://www.yelp.com/biz/planet-fitness-manhat...   \n",
       "1  https://www.yelp.com/biz/montauk-salt-cave-new...   \n",
       "2  https://www.yelp.com/biz/pure-barre-new-york-c...   \n",
       "\n",
       "                                    rev_company_name  \\\n",
       "0         Planet Fitness - Manhattan - Canal St - NY   \n",
       "1                                  Montauk Salt Cave   \n",
       "2  Pure Barre - New York Columbus Circle - 60th &...   \n",
       "\n",
       "                                             userUrl  word_count  char_count  \\\n",
       "0  https://www.yelp.com/user_details?userid=exPhu...         219        1189   \n",
       "1  https://www.yelp.com/user_details?userid=exPhu...         791        4417   \n",
       "2  https://www.yelp.com/user_details?userid=exPhu...          88         480   \n",
       "\n",
       "   numerics  upper  bangs  stp_wrd_cnt  \n",
       "0         0      5      0          100  \n",
       "1         2     19      4          331  \n",
       "2         0      2      0           39  "
      ]
     },
     "execution_count": 129,
     "metadata": {},
     "output_type": "execute_result"
    }
   ],
   "source": [
    "user_reviews_df.head(3)"
   ]
  },
  {
   "cell_type": "markdown",
   "metadata": {},
   "source": [
    "### Data Preprocessing\n",
    "\n",
    "Next, we need to move into data cleaning. This section will be very important for the remaineder of this project and the models we run. In the next few cells we will:\n",
    "1. create a function to remove all punction\n",
    "2. lower case all of the words in our messages\n",
    "4. remove all words shorter than 3 characters\n",
    "3. remove stop words\n",
    "4. check for spelling and correct where needed\n",
    "5. remove frequent\n",
    "6. remove rare/uncommon words\n",
    "\n",
    "\n",
    "#### 1) and 2) get rid of special charaters and lower case:\n",
    "\n",
    "Use the function *clean_text_column*, which we imported above."
   ]
  },
  {
   "cell_type": "code",
   "execution_count": 130,
   "metadata": {
    "collapsed": true
   },
   "outputs": [],
   "source": [
    "user_reviews_df['rev_comp_reviews_new'] = user_reviews_df.rev_comp_reviews.apply(lambda row: clean_text_column(row))"
   ]
  },
  {
   "cell_type": "markdown",
   "metadata": {},
   "source": [
    "#### 3. drop stop words\n"
   ]
  },
  {
   "cell_type": "code",
   "execution_count": 131,
   "metadata": {
    "collapsed": true
   },
   "outputs": [],
   "source": [
    "stop = stopwords.words('english') #loads the stop words for the english language\n",
    "user_reviews_df.rev_comp_reviews_new = user_reviews_df.rev_comp_reviews_new.apply(lambda x: \" \".join(x for x in x.split() if x not in stop)) \n",
    "#returns only words that are not in the list of stop words"
   ]
  },
  {
   "cell_type": "markdown",
   "metadata": {},
   "source": [
    "#### 4. Correct Spelling:\n",
    "\n",
    "Check the words that have only been used once, some of these will definitly be misspelled! "
   ]
  },
  {
   "cell_type": "code",
   "execution_count": 25,
   "metadata": {},
   "outputs": [
    {
     "data": {
      "text/plain": [
       "True"
      ]
     },
     "execution_count": 25,
     "metadata": {},
     "output_type": "execute_result"
    }
   ],
   "source": [
    "from symspellpy.symspellpy import SymSpell\n",
    "sym_spell = SymSpell(2, 7)\n",
    "sym_spell.load_dictionary('frequency_dictionary_en_82_765.txt', 0, 1)"
   ]
  },
  {
   "cell_type": "code",
   "execution_count": 14,
   "metadata": {
    "collapsed": true
   },
   "outputs": [],
   "source": [
    "#list of words that only occur once:\n",
    "word_lists = list(user_reviews_df.rev_comp_reviews.apply(lambda x: x.split(' ')))\n",
    "all_words = [word for rev in word_lists for word in rev]\n",
    "corpus_word_counts_df = pd.DataFrame(pd.Series(all_words).value_counts()).reset_index()\\\n",
    ".rename(columns={'index':'words',0:'counts'})\n"
   ]
  },
  {
   "cell_type": "code",
   "execution_count": 15,
   "metadata": {
    "collapsed": true
   },
   "outputs": [],
   "source": [
    "corpus_word_counts_df_1 = corpus_word_counts_df[corpus_word_counts_df['counts'] == 1]"
   ]
  },
  {
   "cell_type": "code",
   "execution_count": 26,
   "metadata": {},
   "outputs": [
    {
     "data": {
      "application/vnd.jupyter.widget-view+json": {
       "model_id": "306136beb83d41aea5068bf9e354326e"
      }
     },
     "metadata": {},
     "output_type": "display_data"
    },
    {
     "name": "stderr",
     "output_type": "stream",
     "text": [
      "/Users/elenasm7/anaconda/lib/python3.6/site-packages/ipykernel_launcher.py:5: SettingWithCopyWarning: \n",
      "A value is trying to be set on a copy of a slice from a DataFrame.\n",
      "Try using .loc[row_indexer,col_indexer] = value instead\n",
      "\n",
      "See the caveats in the documentation: http://pandas.pydata.org/pandas-docs/stable/indexing.html#indexing-view-versus-copy\n",
      "  \"\"\"\n"
     ]
    }
   ],
   "source": [
    "from tqdm._tqdm_notebook import tqdm_notebook\n",
    "\n",
    "tqdm_notebook.pandas(desc=\"Progress: \")\n",
    "\n",
    "corpus_word_counts_df_1['corrected'] = corpus_word_counts_df_1.words.progress_apply(lambda w: \n",
    "                                                                                     sym_spell.word_segmentation(w)[0])"
   ]
  },
  {
   "cell_type": "code",
   "execution_count": 205,
   "metadata": {},
   "outputs": [
    {
     "data": {
      "text/html": [
       "<div>\n",
       "<style scoped>\n",
       "    .dataframe tbody tr th:only-of-type {\n",
       "        vertical-align: middle;\n",
       "    }\n",
       "\n",
       "    .dataframe tbody tr th {\n",
       "        vertical-align: top;\n",
       "    }\n",
       "\n",
       "    .dataframe thead th {\n",
       "        text-align: right;\n",
       "    }\n",
       "</style>\n",
       "<table border=\"1\" class=\"dataframe\">\n",
       "  <thead>\n",
       "    <tr style=\"text-align: right;\">\n",
       "      <th></th>\n",
       "      <th>words</th>\n",
       "      <th>counts</th>\n",
       "      <th>corrected</th>\n",
       "    </tr>\n",
       "  </thead>\n",
       "  <tbody>\n",
       "    <tr>\n",
       "      <th>53474</th>\n",
       "      <td>sayingall</td>\n",
       "      <td>1</td>\n",
       "      <td>saying all</td>\n",
       "    </tr>\n",
       "    <tr>\n",
       "      <th>53475</th>\n",
       "      <td>gazebolike</td>\n",
       "      <td>1</td>\n",
       "      <td>gazebo like</td>\n",
       "    </tr>\n",
       "  </tbody>\n",
       "</table>\n",
       "</div>"
      ],
      "text/plain": [
       "            words  counts    corrected\n",
       "53474   sayingall       1   saying all\n",
       "53475  gazebolike       1  gazebo like"
      ]
     },
     "execution_count": 205,
     "metadata": {},
     "output_type": "execute_result"
    }
   ],
   "source": [
    "corpus_word_counts_df_1.tail(2)"
   ]
  },
  {
   "cell_type": "code",
   "execution_count": null,
   "metadata": {
    "collapsed": true
   },
   "outputs": [],
   "source": [
    "pickle_file(corpus_word_counts_df_1,'correct_spelling_last')"
   ]
  },
  {
   "cell_type": "markdown",
   "metadata": {},
   "source": [
    "Pickled these words:<br>\n",
    "pickle_file(user_reviews_df, <span style=\"color:red\">'Data/spelling_corrections_df'</span>)\n",
    "\n",
    "\n",
    "**Use replace_fixed_words defined in our functions in the next step to replace the words we just corrected:**"
   ]
  },
  {
   "cell_type": "code",
   "execution_count": 12,
   "metadata": {
    "collapsed": true
   },
   "outputs": [],
   "source": [
    "spelling = open_pickle('Data/spelling_corrections_df')"
   ]
  },
  {
   "cell_type": "code",
   "execution_count": 13,
   "metadata": {},
   "outputs": [
    {
     "data": {
      "text/html": [
       "<div>\n",
       "<style scoped>\n",
       "    .dataframe tbody tr th:only-of-type {\n",
       "        vertical-align: middle;\n",
       "    }\n",
       "\n",
       "    .dataframe tbody tr th {\n",
       "        vertical-align: top;\n",
       "    }\n",
       "\n",
       "    .dataframe thead th {\n",
       "        text-align: right;\n",
       "    }\n",
       "</style>\n",
       "<table border=\"1\" class=\"dataframe\">\n",
       "  <thead>\n",
       "    <tr style=\"text-align: right;\">\n",
       "      <th></th>\n",
       "      <th>comapny_source</th>\n",
       "      <th>company_loc</th>\n",
       "      <th>rev_comp_rating</th>\n",
       "      <th>rev_comp_reviews</th>\n",
       "      <th>rev_comp_url</th>\n",
       "      <th>rev_company_name</th>\n",
       "      <th>userUrl</th>\n",
       "      <th>word_count</th>\n",
       "      <th>char_count</th>\n",
       "      <th>numerics</th>\n",
       "      <th>upper</th>\n",
       "      <th>bangs</th>\n",
       "      <th>stp_wrd_cnt</th>\n",
       "      <th>rev_comp_reviews_corrections</th>\n",
       "      <th>rev_comp_reviews_corrections_2</th>\n",
       "    </tr>\n",
       "  </thead>\n",
       "  <tbody>\n",
       "    <tr>\n",
       "      <th>0</th>\n",
       "      <td>Peloton</td>\n",
       "      <td>370 Canal St New York, NY 10013</td>\n",
       "      <td>3.0</td>\n",
       "      <td>planet fitness affordable frills gym happy opt...</td>\n",
       "      <td>https://www.yelp.com/biz/planet-fitness-manhat...</td>\n",
       "      <td>Planet Fitness - Manhattan - Canal St - NY</td>\n",
       "      <td>https://www.yelp.com/user_details?userid=exPhu...</td>\n",
       "      <td>219</td>\n",
       "      <td>1189</td>\n",
       "      <td>0</td>\n",
       "      <td>5</td>\n",
       "      <td>0</td>\n",
       "      <td>100</td>\n",
       "      <td>planet fitness affordable frills gym happy opt...</td>\n",
       "      <td>planet fitness affordable frills gym happy opt...</td>\n",
       "    </tr>\n",
       "    <tr>\n",
       "      <th>1</th>\n",
       "      <td>Peloton</td>\n",
       "      <td>90 E 10th St New York, NY 10003</td>\n",
       "      <td>2.0</td>\n",
       "      <td>purchased groupon friend calling book receptio...</td>\n",
       "      <td>https://www.yelp.com/biz/montauk-salt-cave-new...</td>\n",
       "      <td>Montauk Salt Cave</td>\n",
       "      <td>https://www.yelp.com/user_details?userid=exPhu...</td>\n",
       "      <td>791</td>\n",
       "      <td>4417</td>\n",
       "      <td>2</td>\n",
       "      <td>19</td>\n",
       "      <td>4</td>\n",
       "      <td>331</td>\n",
       "      <td>purchased groupon friend calling book receptio...</td>\n",
       "      <td>purchased group on friend calling book recepti...</td>\n",
       "    </tr>\n",
       "    <tr>\n",
       "      <th>2</th>\n",
       "      <td>Peloton</td>\n",
       "      <td>1841 Broadway New York, NY 11023</td>\n",
       "      <td>3.0</td>\n",
       "      <td>enjoyed class one least favorite barre studios...</td>\n",
       "      <td>https://www.yelp.com/biz/pure-barre-new-york-c...</td>\n",
       "      <td>Pure Barre - New York Columbus Circle - 60th &amp;...</td>\n",
       "      <td>https://www.yelp.com/user_details?userid=exPhu...</td>\n",
       "      <td>88</td>\n",
       "      <td>480</td>\n",
       "      <td>0</td>\n",
       "      <td>2</td>\n",
       "      <td>0</td>\n",
       "      <td>39</td>\n",
       "      <td>enjoyed class one least favorite barre studios...</td>\n",
       "      <td>enjoyed class one least favorite barre studios...</td>\n",
       "    </tr>\n",
       "    <tr>\n",
       "      <th>3</th>\n",
       "      <td>Peloton</td>\n",
       "      <td>19 W 45th St New York, NY 10036</td>\n",
       "      <td>4.0</td>\n",
       "      <td>came pilates mat fundamental class loved youre...</td>\n",
       "      <td>https://www.yelp.com/biz/return-to-life-center...</td>\n",
       "      <td>Return To Life Center - Pilates and Functional...</td>\n",
       "      <td>https://www.yelp.com/user_details?userid=exPhu...</td>\n",
       "      <td>106</td>\n",
       "      <td>584</td>\n",
       "      <td>0</td>\n",
       "      <td>2</td>\n",
       "      <td>2</td>\n",
       "      <td>39</td>\n",
       "      <td>came pilates mat fundamental class loved youre...</td>\n",
       "      <td>came pilates mat fundamental class loved you r...</td>\n",
       "    </tr>\n",
       "    <tr>\n",
       "      <th>4</th>\n",
       "      <td>Peloton</td>\n",
       "      <td>140 W 23rd St New York, NY 10011</td>\n",
       "      <td>4.0</td>\n",
       "      <td>came first peloton class awhile back completel...</td>\n",
       "      <td>https://www.yelp.com/biz/peloton-new-york</td>\n",
       "      <td>Peloton</td>\n",
       "      <td>https://www.yelp.com/user_details?userid=exPhu...</td>\n",
       "      <td>206</td>\n",
       "      <td>1137</td>\n",
       "      <td>0</td>\n",
       "      <td>9</td>\n",
       "      <td>1</td>\n",
       "      <td>91</td>\n",
       "      <td>came first peloton class awhile back completel...</td>\n",
       "      <td>came first peloton class awhile back completel...</td>\n",
       "    </tr>\n",
       "  </tbody>\n",
       "</table>\n",
       "</div>"
      ],
      "text/plain": [
       "  comapny_source                       company_loc  rev_comp_rating  \\\n",
       "0        Peloton   370 Canal St New York, NY 10013              3.0   \n",
       "1        Peloton   90 E 10th St New York, NY 10003              2.0   \n",
       "2        Peloton  1841 Broadway New York, NY 11023              3.0   \n",
       "3        Peloton   19 W 45th St New York, NY 10036              4.0   \n",
       "4        Peloton  140 W 23rd St New York, NY 10011              4.0   \n",
       "\n",
       "                                    rev_comp_reviews  \\\n",
       "0  planet fitness affordable frills gym happy opt...   \n",
       "1  purchased groupon friend calling book receptio...   \n",
       "2  enjoyed class one least favorite barre studios...   \n",
       "3  came pilates mat fundamental class loved youre...   \n",
       "4  came first peloton class awhile back completel...   \n",
       "\n",
       "                                        rev_comp_url  \\\n",
       "0  https://www.yelp.com/biz/planet-fitness-manhat...   \n",
       "1  https://www.yelp.com/biz/montauk-salt-cave-new...   \n",
       "2  https://www.yelp.com/biz/pure-barre-new-york-c...   \n",
       "3  https://www.yelp.com/biz/return-to-life-center...   \n",
       "4          https://www.yelp.com/biz/peloton-new-york   \n",
       "\n",
       "                                    rev_company_name  \\\n",
       "0         Planet Fitness - Manhattan - Canal St - NY   \n",
       "1                                  Montauk Salt Cave   \n",
       "2  Pure Barre - New York Columbus Circle - 60th &...   \n",
       "3  Return To Life Center - Pilates and Functional...   \n",
       "4                                            Peloton   \n",
       "\n",
       "                                             userUrl  word_count  char_count  \\\n",
       "0  https://www.yelp.com/user_details?userid=exPhu...         219        1189   \n",
       "1  https://www.yelp.com/user_details?userid=exPhu...         791        4417   \n",
       "2  https://www.yelp.com/user_details?userid=exPhu...          88         480   \n",
       "3  https://www.yelp.com/user_details?userid=exPhu...         106         584   \n",
       "4  https://www.yelp.com/user_details?userid=exPhu...         206        1137   \n",
       "\n",
       "   numerics  upper  bangs  stp_wrd_cnt  \\\n",
       "0         0      5      0          100   \n",
       "1         2     19      4          331   \n",
       "2         0      2      0           39   \n",
       "3         0      2      2           39   \n",
       "4         0      9      1           91   \n",
       "\n",
       "                        rev_comp_reviews_corrections  \\\n",
       "0  planet fitness affordable frills gym happy opt...   \n",
       "1  purchased groupon friend calling book receptio...   \n",
       "2  enjoyed class one least favorite barre studios...   \n",
       "3  came pilates mat fundamental class loved youre...   \n",
       "4  came first peloton class awhile back completel...   \n",
       "\n",
       "                      rev_comp_reviews_corrections_2  \n",
       "0  planet fitness affordable frills gym happy opt...  \n",
       "1  purchased group on friend calling book recepti...  \n",
       "2  enjoyed class one least favorite barre studios...  \n",
       "3  came pilates mat fundamental class loved you r...  \n",
       "4  came first peloton class awhile back completel...  "
      ]
     },
     "execution_count": 13,
     "metadata": {},
     "output_type": "execute_result"
    }
   ],
   "source": [
    "spelling.head()"
   ]
  },
  {
   "cell_type": "code",
   "execution_count": 168,
   "metadata": {},
   "outputs": [
    {
     "data": {
      "application/vnd.jupyter.widget-view+json": {
       "model_id": "d13d44d6a2d347d3b07a2115bbe88be3"
      }
     },
     "metadata": {},
     "output_type": "display_data"
    }
   ],
   "source": [
    "user_reviews_df['rev_comp_reviews_corrections'] = user_reviews_df\\\n",
    ".rev_comp_reviews.progress_apply(lambda x: replace_fixed_words(x,corpus_word_counts_df_1))"
   ]
  },
  {
   "cell_type": "code",
   "execution_count": 170,
   "metadata": {},
   "outputs": [
    {
     "name": "stdout",
     "output_type": "stream",
     "text": [
      "Before the spell checker we had 53476 words, and now we have: 32334\n",
      "\n",
      "31785 were corrected for\n"
     ]
    }
   ],
   "source": [
    "word_lists_new = list(user_reviews_df.rev_comp_reviews_corrections.apply(lambda x: x.split(' ')))\n",
    "all_words_corr = [word for rev in word_lists_new for word in rev]\n",
    "\n",
    "count_1= corpus_word_counts_df.shape[0]\n",
    "count_2 = pd.Series(all_words_corr).value_counts().shape[0]\n",
    "\n",
    "print(f'Before the spell checker we had {count_1} words, and now we have: {count_2}')\n",
    "\n"
   ]
  },
  {
   "cell_type": "markdown",
   "metadata": {},
   "source": [
    "Before the spell checker we had 53476 words, and now we have 32334\n",
    "\n",
    "\n",
    "\n",
    "#### 5. lemmetize our words\n"
   ]
  },
  {
   "cell_type": "code",
   "execution_count": 171,
   "metadata": {},
   "outputs": [
    {
     "data": {
      "application/vnd.jupyter.widget-view+json": {
       "model_id": "07ea0305db6e46e99bd6e04d2b3d6eba"
      }
     },
     "metadata": {},
     "output_type": "display_data"
    }
   ],
   "source": [
    "nlp = spacy.load('en_core_web_sm')\n",
    "user_reviews_df['rev_comp_reviews_corrections_new'] = user_reviews_df.rev_comp_reviews_corrections.\\\n",
    "progress_apply(lambda x: return_lemma(x,nlp))\n"
   ]
  },
  {
   "cell_type": "code",
   "execution_count": 172,
   "metadata": {},
   "outputs": [
    {
     "data": {
      "text/plain": [
       "'Pickled object!'"
      ]
     },
     "execution_count": 172,
     "metadata": {},
     "output_type": "execute_result"
    }
   ],
   "source": [
    "pickle_file(user_reviews_df, 'Data/sp_and_lemm_df')\n"
   ]
  },
  {
   "cell_type": "code",
   "execution_count": 178,
   "metadata": {},
   "outputs": [
    {
     "data": {
      "text/plain": [
       "0    planet fitness affordable frill gym happy opti...\n",
       "1    purchase groupon friend call book receptionist...\n",
       "2    enjoy class one least favorite barre studio si...\n",
       "Name: rev_comp_reviews_corrections_new, dtype: object"
      ]
     },
     "execution_count": 178,
     "metadata": {},
     "output_type": "execute_result"
    }
   ],
   "source": [
    "user_reviews_df.rev_comp_reviews_corrections_new[:3]"
   ]
  },
  {
   "cell_type": "markdown",
   "metadata": {},
   "source": [
    "#### 11. Class Imbalance and Sentiment Analysis:\n",
    "\n",
    "If we look at the distributions above we can see that some users appear more frequently than others, but also our star ratings are positively skewed. \n",
    "\n",
    "In the next few cells we will try address this issue by augemneting the scores given by users with the sentiment scores of their reviews. \n",
    "\n",
    "**An example of how this works:**"
   ]
  },
  {
   "cell_type": "code",
   "execution_count": 133,
   "metadata": {},
   "outputs": [],
   "source": [
    "sid = SentimentIntensityAnalyzer()\n",
    "ss = sid.polarity_scores('I love this place so much! It is my favoirte place ever!!')\n",
    "ss_2 = sid.polarity_scores('this place is literally the worst ever, it deserves a zero!')\n",
    "ss_3 = sid.polarity_scores('this place is average, got the job done.')\n",
    "ss_4 = sid.polarity_scores(user_reviews_df.rev_comp_reviews_new[100])"
   ]
  },
  {
   "cell_type": "code",
   "execution_count": null,
   "metadata": {
    "collapsed": true
   },
   "outputs": [],
   "source": [
    "print(f'I love this place so much! It is my favoirte place ever!!: {ss}',\n",
    "     f'this place is literally the worst ever, it deserves a zero!: {ss_2}',\n",
    "     f'this place is average, got the job done.: {ss_3}',\n",
    "     f'{users_reviews_df.rev_comp_reviews[100]}: {ss_4}', sep='\\n\\n')"
   ]
  },
  {
   "cell_type": "markdown",
   "metadata": {},
   "source": [
    "**Based on the results of this exploration, maybe the best way to handle this is the following:**\n",
    "- subtract the negative score from the positive score\n",
    "- multiply this by the original rating\n",
    "- add this new rating to our original rating"
   ]
  },
  {
   "cell_type": "code",
   "execution_count": 149,
   "metadata": {},
   "outputs": [],
   "source": [
    "from tqdm._tqdm_notebook import tqdm_notebook\n",
    "\n",
    "tqdm_notebook.pandas(desc=\"Progress: \")\n",
    "\n",
    "user_reviews_df['sentiment_score_new'] = user_reviews_df.rev_comp_reviews.progress_apply(lambda rev: sid.polarity_scores(rev))\n",
    "user_reviews_df['comp_score'] = user_reviews_df.sentiment_score_new.progress_apply(lambda sent: sent['compound'])\n",
    "user_reviews_df['new_rating_1'] = user_reviews_df.comp_score+user_reviews_df.rev_comp_rating"
   ]
  },
  {
   "cell_type": "code",
   "execution_count": 156,
   "metadata": {},
   "outputs": [
    {
     "data": {
      "text/html": [
       "<div>\n",
       "<style scoped>\n",
       "    .dataframe tbody tr th:only-of-type {\n",
       "        vertical-align: middle;\n",
       "    }\n",
       "\n",
       "    .dataframe tbody tr th {\n",
       "        vertical-align: top;\n",
       "    }\n",
       "\n",
       "    .dataframe thead th {\n",
       "        text-align: right;\n",
       "    }\n",
       "</style>\n",
       "<table border=\"1\" class=\"dataframe\">\n",
       "  <thead>\n",
       "    <tr style=\"text-align: right;\">\n",
       "      <th></th>\n",
       "      <th>word_count</th>\n",
       "      <th>char_count</th>\n",
       "      <th>numerics</th>\n",
       "      <th>upper</th>\n",
       "      <th>bangs</th>\n",
       "      <th>stp_wrd_cnt</th>\n",
       "      <th>comp_score</th>\n",
       "      <th>new_rating</th>\n",
       "    </tr>\n",
       "    <tr>\n",
       "      <th>rev_comp_rating</th>\n",
       "      <th></th>\n",
       "      <th></th>\n",
       "      <th></th>\n",
       "      <th></th>\n",
       "      <th></th>\n",
       "      <th></th>\n",
       "      <th></th>\n",
       "      <th></th>\n",
       "    </tr>\n",
       "  </thead>\n",
       "  <tbody>\n",
       "    <tr>\n",
       "      <th>1.0</th>\n",
       "      <td>172.233095</td>\n",
       "      <td>933.762928</td>\n",
       "      <td>0.945107</td>\n",
       "      <td>7.747812</td>\n",
       "      <td>1.141607</td>\n",
       "      <td>73.584726</td>\n",
       "      <td>-0.110324</td>\n",
       "      <td>0.889676</td>\n",
       "    </tr>\n",
       "    <tr>\n",
       "      <th>2.0</th>\n",
       "      <td>189.559078</td>\n",
       "      <td>1033.829971</td>\n",
       "      <td>0.917387</td>\n",
       "      <td>6.913545</td>\n",
       "      <td>0.706052</td>\n",
       "      <td>80.986551</td>\n",
       "      <td>0.260098</td>\n",
       "      <td>2.260098</td>\n",
       "    </tr>\n",
       "    <tr>\n",
       "      <th>3.0</th>\n",
       "      <td>172.209892</td>\n",
       "      <td>940.525682</td>\n",
       "      <td>0.826252</td>\n",
       "      <td>6.037413</td>\n",
       "      <td>0.660748</td>\n",
       "      <td>72.833228</td>\n",
       "      <td>0.631364</td>\n",
       "      <td>3.631364</td>\n",
       "    </tr>\n",
       "    <tr>\n",
       "      <th>4.0</th>\n",
       "      <td>158.935020</td>\n",
       "      <td>870.955639</td>\n",
       "      <td>0.802874</td>\n",
       "      <td>5.413933</td>\n",
       "      <td>1.036239</td>\n",
       "      <td>66.137457</td>\n",
       "      <td>0.840584</td>\n",
       "      <td>4.840584</td>\n",
       "    </tr>\n",
       "    <tr>\n",
       "      <th>5.0</th>\n",
       "      <td>133.236384</td>\n",
       "      <td>737.882783</td>\n",
       "      <td>0.602991</td>\n",
       "      <td>4.822305</td>\n",
       "      <td>1.541213</td>\n",
       "      <td>54.143066</td>\n",
       "      <td>0.900323</td>\n",
       "      <td>5.900323</td>\n",
       "    </tr>\n",
       "  </tbody>\n",
       "</table>\n",
       "</div>"
      ],
      "text/plain": [
       "                 word_count   char_count  numerics     upper     bangs  \\\n",
       "rev_comp_rating                                                          \n",
       "1.0              172.233095   933.762928  0.945107  7.747812  1.141607   \n",
       "2.0              189.559078  1033.829971  0.917387  6.913545  0.706052   \n",
       "3.0              172.209892   940.525682  0.826252  6.037413  0.660748   \n",
       "4.0              158.935020   870.955639  0.802874  5.413933  1.036239   \n",
       "5.0              133.236384   737.882783  0.602991  4.822305  1.541213   \n",
       "\n",
       "                 stp_wrd_cnt  comp_score  new_rating  \n",
       "rev_comp_rating                                       \n",
       "1.0                73.584726   -0.110324    0.889676  \n",
       "2.0                80.986551    0.260098    2.260098  \n",
       "3.0                72.833228    0.631364    3.631364  \n",
       "4.0                66.137457    0.840584    4.840584  \n",
       "5.0                54.143066    0.900323    5.900323  "
      ]
     },
     "execution_count": 156,
     "metadata": {},
     "output_type": "execute_result"
    }
   ],
   "source": [
    "user_reviews_df.groupby('rev_comp_rating').mean()"
   ]
  },
  {
   "cell_type": "code",
   "execution_count": null,
   "metadata": {
    "collapsed": true
   },
   "outputs": [],
   "source": [
    "# def augment_score(rev,df):\n",
    "#     counter = 0\n",
    "#     if df.rev_comp_rating[counter] == 1.0:\n",
    "#         if rev == -0.110324:\n",
    "#             return rev\n",
    "#         else:\n",
    "#             return df.rev_comp_rating[counter] + (rev - -0.110324)\n",
    "        \n",
    "#     elif df.rev_comp_rating[counter] == 2.0:\n",
    "#         if rev == 0.260098:\n",
    "#             return rev\n",
    "#         else:\n",
    "#             return df.rev_comp_rating[counter] + (rev - 0.260098)\n",
    "        \n",
    "#     elif df.rev_comp_rating[counter] == 3.0:\n",
    "#         if rev == 0.631364:\n",
    "#             return rev\n",
    "#         else:\n",
    "#             return df.rev_comp_rating[counter] + (rev - 0.631364)\n",
    "        \n",
    "#     elif df.rev_comp_rating[counter] == 4.0:\n",
    "#         if rev == 0.840584:\n",
    "#             return rev\n",
    "#         else:\n",
    "#             return df.rev_comp_rating[counter] + (rev - 0.631364)\n",
    "#     else: \n",
    "        "
   ]
  },
  {
   "cell_type": "code",
   "execution_count": 150,
   "metadata": {},
   "outputs": [
    {
     "name": "stderr",
     "output_type": "stream",
     "text": [
      "/Users/elenasm7/anaconda/lib/python3.6/site-packages/scipy/stats/stats.py:1706: FutureWarning: Using a non-tuple sequence for multidimensional indexing is deprecated; use `arr[tuple(seq)]` instead of `arr[seq]`. In the future this will be interpreted as an array index, `arr[np.array(seq)]`, which will result either in an error or a different result.\n",
      "  return np.add.reduce(sorted[indexer] * weights, axis=axis) / sumval\n"
     ]
    },
    {
     "data": {
      "image/png": "[encoded data removed]",
      "text/plain": [
       "<Figure size 504x360 with 1 Axes>"
      ]
     },
     "metadata": {},
     "output_type": "display_data"
    }
   ],
   "source": [
    "sns.set_style(\"darkgrid\")\n",
    "plt.figure(figsize=(7,5))\n",
    "sns.distplot(user_reviews_df['new_rating'],color='red',bins=15)\n",
    "plt.title('New Star Rating Histogram',fontsize=15)\n",
    "plt.xlabel('new ratings')\n",
    "# sns.set(font_scale=1)\n",
    "plt.savefig(\"new_start_rating_dist.png\");"
   ]
  },
  {
   "cell_type": "code",
   "execution_count": 153,
   "metadata": {},
   "outputs": [
    {
     "data": {
      "text/plain": [
       "10640    0.0035\n",
       "10747    0.0036\n",
       "8387     0.0038\n",
       "11193    0.0044\n",
       "7671     0.0051\n",
       "9034     0.0058\n",
       "12040    0.0062\n",
       "2791     0.0065\n",
       "1481     0.0076\n",
       "12601    0.0079\n",
       "4754     0.0100\n",
       "7041     0.0104\n",
       "806      0.0108\n",
       "1985     0.0110\n",
       "12862    0.0110\n",
       "11064    0.0113\n",
       "12220    0.0120\n",
       "10225    0.0122\n",
       "1470     0.0138\n",
       "1471     0.0140\n",
       "8143     0.0154\n",
       "7130     0.0160\n",
       "355      0.0165\n",
       "3129     0.0171\n",
       "3594     0.0172\n",
       "7643     0.0177\n",
       "5102     0.0182\n",
       "11000    0.0183\n",
       "1293     0.0183\n",
       "12267    0.0184\n",
       "          ...  \n",
       "11686    5.9989\n",
       "11394    5.9989\n",
       "8381     5.9989\n",
       "3382     5.9989\n",
       "12568    5.9990\n",
       "25       5.9990\n",
       "1126     5.9991\n",
       "7806     5.9991\n",
       "1991     5.9991\n",
       "3818     5.9992\n",
       "7929     5.9992\n",
       "13484    5.9992\n",
       "13509    5.9992\n",
       "12884    5.9992\n",
       "1510     5.9993\n",
       "9243     5.9993\n",
       "11509    5.9993\n",
       "7629     5.9993\n",
       "12080    5.9994\n",
       "9925     5.9994\n",
       "3329     5.9994\n",
       "3383     5.9995\n",
       "6023     5.9995\n",
       "6022     5.9996\n",
       "13434    5.9996\n",
       "6025     5.9996\n",
       "6024     5.9996\n",
       "3085     5.9997\n",
       "5190     5.9998\n",
       "6020     5.9998\n",
       "Name: new_rating, Length: 13227, dtype: float64"
      ]
     },
     "execution_count": 153,
     "metadata": {},
     "output_type": "execute_result"
    }
   ],
   "source": [
    "user_reviews_df_new.new_rating.sort_values()"
   ]
  },
  {
   "cell_type": "code",
   "execution_count": 154,
   "metadata": {},
   "outputs": [
    {
     "data": {
      "text/plain": [
       "'Pickled object!'"
      ]
     },
     "execution_count": 154,
     "metadata": {},
     "output_type": "execute_result"
    }
   ],
   "source": [
    "user_reviews_df_new = user_reviews_df[['comapny_source', 'company_loc', 'rev_comp_rating', 'rev_comp_reviews',\n",
    "       'rev_comp_url', 'rev_company_name', 'userUrl','new_rating']]\n",
    "pickle_file(user_reviews_df_new,'Data/newest_sentiment_rating')"
   ]
  },
  {
   "cell_type": "code",
   "execution_count": 141,
   "metadata": {},
   "outputs": [
    {
     "data": {
      "text/plain": [
       "({'compound': 0.9813, 'neg': 0.018, 'neu': 0.776, 'pos': 0.206},\n",
       " \"I think this was my favorite Barre class yet! I signed up with Classpass for their Signature workout and felt that this was the most intensive one I've been to yet. They really push you, my legs were super wobbly afterwards. I loved my instructor Brady, who had a very friendly, caring energy and took time to discuss my injury with me before moving forward with the class. The waiting area is nice, they have free apples and workout gear for sale like most places. Check in was a breeze. And the bathrooms are really clean and nice. They had a cleaning crew that seemed to be working round the clock to keep everything spotless, I really can't stress enough how seriously they seem to take making sure the place is clean enough to make everyone comfortable in. Kudos to those staff members who make that possible! The shower area is a little tight but people were very courteous in trying to be quick and make space for each other.\")"
      ]
     },
     "execution_count": 141,
     "metadata": {},
     "output_type": "execute_result"
    }
   ],
   "source": [
    "user_reviews_df['sentiment_score_new'][9],user_reviews_df['rev_comp_reviews'][9]"
   ]
  },
  {
   "cell_type": "code",
   "execution_count": 146,
   "metadata": {},
   "outputs": [
    {
     "data": {
      "text/plain": [
       "{'compound': -0.5954, 'neg': 0.099, 'neu': 0.832, 'pos': 0.069}"
      ]
     },
     "execution_count": 146,
     "metadata": {},
     "output_type": "execute_result"
    }
   ],
   "source": [
    "user_reviews_df['sentiment_score_new'][2]"
   ]
  },
  {
   "cell_type": "code",
   "execution_count": 184,
   "metadata": {
    "collapsed": true
   },
   "outputs": [],
   "source": [
    "user_reviews_df['sentiment_score'] = user_reviews_df.rev_comp_reviews_corrections_new.apply(lambda rev: sid.polarity_scores(rev))\n",
    "user_reviews_df['pos_neg'] = user_reviews_df.sentiment_score.apply(lambda sent: sent['pos']-sent['neg'])\n",
    "user_reviews_df['new_rating'] = user_reviews_df.pos_neg*user_reviews_df.rev_comp_rating + user_reviews_df.rev_comp_rating"
   ]
  },
  {
   "cell_type": "code",
   "execution_count": 202,
   "metadata": {
    "collapsed": true
   },
   "outputs": [],
   "source": [
    "user_reviews_df_new = user_reviews_df[['comapny_source', 'company_loc', 'rev_comp_rating', 'rev_comp_reviews',\n",
    "       'rev_comp_url', 'rev_company_name', 'userUrl', 'word_count',\n",
    "       'char_count', 'numerics', 'upper', 'bangs', 'stp_wrd_cnt',\n",
    "       'rev_comp_reviews_corrections_new','new_rating']]"
   ]
  },
  {
   "cell_type": "code",
   "execution_count": 193,
   "metadata": {},
   "outputs": [
    {
     "name": "stderr",
     "output_type": "stream",
     "text": [
      "/Users/elenasm7/anaconda/lib/python3.6/site-packages/scipy/stats/stats.py:1706: FutureWarning: Using a non-tuple sequence for multidimensional indexing is deprecated; use `arr[tuple(seq)]` instead of `arr[seq]`. In the future this will be interpreted as an array index, `arr[np.array(seq)]`, which will result either in an error or a different result.\n",
      "  return np.add.reduce(sorted[indexer] * weights, axis=axis) / sumval\n"
     ]
    },
    {
     "data": {
      "image/png": "[encoded data removed]",
      "text/plain": [
       "<Figure size 504x360 with 1 Axes>"
      ]
     },
     "metadata": {},
     "output_type": "display_data"
    }
   ],
   "source": [
    "sns.set_style(\"darkgrid\")\n",
    "plt.figure(figsize=(7,5))\n",
    "sns.distplot(user_reviews_df['new_rating'],color='red',bins=15)\n",
    "plt.title('New Star Rating Histogram',fontsize=15)\n",
    "plt.xlabel('new ratings')\n",
    "# sns.set(font_scale=1)\n",
    "plt.savefig(\"new_start_rating_dist.png\");"
   ]
  },
  {
   "cell_type": "markdown",
   "metadata": {},
   "source": [
    "#### Train-Test Spilt:\n",
    "\n",
    "there's no good way that's been suggested on the internet to test your models. So, here we will remove a few users with multiple reviews so we can test on them. "
   ]
  },
  {
   "cell_type": "code",
   "execution_count": 29,
   "metadata": {},
   "outputs": [],
   "source": [
    "user_reviews_df = open_pickle('Data/reviews_w_new_sentiment')"
   ]
  },
  {
   "cell_type": "code",
   "execution_count": 32,
   "metadata": {
    "collapsed": true
   },
   "outputs": [],
   "source": [
    "user_reviews_df['in_NYC'] = user_reviews_df.company_loc.apply(lambda x: in_nyc(x))\n",
    "user_reviews_df = user_reviews_df[user_reviews_df.in_NYC == 1].drop(['in_NYC'],axis=1).reset_index(drop=True)"
   ]
  },
  {
   "cell_type": "code",
   "execution_count": 55,
   "metadata": {},
   "outputs": [
    {
     "name": "stdout",
     "output_type": "stream",
     "text": [
      "There are a total of 3831 users, and 20% of that is 766.\n"
     ]
    }
   ],
   "source": [
    "tot_users = len(set(user_reviews_df.userUrl))\n",
    "print(f'There are a total of {tot_users} users, and 20% of that is {int(tot_users*.2)}.')"
   ]
  },
  {
   "cell_type": "code",
   "execution_count": 56,
   "metadata": {},
   "outputs": [
    {
     "data": {
      "text/plain": [
       "(13598, 15)"
      ]
     },
     "execution_count": 56,
     "metadata": {},
     "output_type": "execute_result"
    }
   ],
   "source": [
    "user_reviews_df.shape"
   ]
  },
  {
   "cell_type": "markdown",
   "metadata": {},
   "source": [
    "**This is the random list of users we will be selecting and grabbing the usersID and then grabbing all of their rows:**"
   ]
  },
  {
   "cell_type": "code",
   "execution_count": 95,
   "metadata": {
    "collapsed": true
   },
   "outputs": [],
   "source": [
    "np.random.seed(3)\n",
    "users_select = np.random.randint(0,3831,766)"
   ]
  },
  {
   "cell_type": "code",
   "execution_count": 96,
   "metadata": {},
   "outputs": [],
   "source": [
    "tester = user_reviews_df['userUrl'].drop_duplicates()"
   ]
  },
  {
   "cell_type": "code",
   "execution_count": 97,
   "metadata": {},
   "outputs": [],
   "source": [
    "new_user_selection = tester.reset_index().reindex(users_select, fill_value=0,copy=True)"
   ]
  },
  {
   "cell_type": "code",
   "execution_count": 99,
   "metadata": {},
   "outputs": [
    {
     "data": {
      "application/vnd.jupyter.widget-view+json": {
       "model_id": "77a206aba5924bd7a324eca2d2823c2c"
      }
     },
     "metadata": {},
     "output_type": "display_data"
    }
   ],
   "source": [
    "tqdm_notebook.pandas(desc=\"Progress: \")\n",
    "user_reviews_df['is_sample'] = user_reviews_df.userUrl.progress_apply(lambda url:is_sample(url))\n",
    "user_reviews_test_df = user_reviews_df[user_reviews_df.is_sample == 1].drop(['is_sample'],axis=1).reset_index(drop=True)\n",
    "user_reviews_train_df = user_reviews_df[user_reviews_df.is_sample == 0].drop(['is_sample'],axis=1).reset_index(drop=True)"
   ]
  },
  {
   "cell_type": "code",
   "execution_count": 100,
   "metadata": {},
   "outputs": [
    {
     "data": {
      "text/plain": [
       "((11204, 15), (2394, 15))"
      ]
     },
     "execution_count": 100,
     "metadata": {},
     "output_type": "execute_result"
    }
   ],
   "source": [
    "user_reviews_train_df.shape,user_reviews_test_df.shape"
   ]
  },
  {
   "cell_type": "code",
   "execution_count": 101,
   "metadata": {},
   "outputs": [
    {
     "data": {
      "text/plain": [
       "(3128, 703)"
      ]
     },
     "execution_count": 101,
     "metadata": {},
     "output_type": "execute_result"
    }
   ],
   "source": [
    "len(set(user_reviews_train_df['userUrl'])),len(set(user_reviews_test_df['userUrl']))"
   ]
  },
  {
   "cell_type": "code",
   "execution_count": 103,
   "metadata": {},
   "outputs": [
    {
     "data": {
      "text/plain": [
       "'Pickled object!'"
      ]
     },
     "execution_count": 103,
     "metadata": {},
     "output_type": "execute_result"
    }
   ],
   "source": [
    "pickle_file(user_reviews_train_df,'Data/train_data')\n",
    "pickle_file(user_reviews_test_df,'Data/test_data')"
   ]
  },
  {
   "cell_type": "markdown",
   "metadata": {},
   "source": [
    "citations:\n",
    "\n",
    "\n",
    "Hutto, C.J. & Gilbert, E.E. (2014). VADER: A Parsimonious Rule-based Model for Sentiment Analysis of Social Media Text. Eighth International Conference on Weblogs and Social Media (ICWSM-14). Ann Arbor, MI, June 2014.\n",
    "\n",
    "https://opensourceforu.com/2016/12/analysing-sentiments-nltk/\n"
   ]
  }
 ],
 "metadata": {
  "kernelspec": {
   "display_name": "Python 3",
   "language": "python",
   "name": "python3"
  },
  "language_info": {
   "codemirror_mode": {
    "name": "ipython",
    "version": 3
   },
   "file_extension": ".py",
   "mimetype": "text/x-python",
   "name": "python",
   "nbconvert_exporter": "python",
   "pygments_lexer": "ipython3",
   "version": "3.6.8"
  }
 },
 "nbformat": 4,
 "nbformat_minor": 2
}
