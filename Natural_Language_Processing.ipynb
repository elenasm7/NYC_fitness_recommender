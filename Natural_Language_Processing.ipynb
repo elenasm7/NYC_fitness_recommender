{
 "cells": [
  {
   "cell_type": "markdown",
   "metadata": {},
   "source": [
    "# Natural Language Processing\n",
    "\n",
    "In this notebook we will now go through the text data in the reviews and class/business descriptions. By preprocessing this data and using the NLP tools provided to us through *__Spacy__* and __*NLTK*__ we will be able to derive some meaning from the text to *hopefully* improve our models.\n",
    "\n",
    "The steps involved in this are as follows: \n",
    "\n",
    "1. count number of exclamation points\n",
    "2. count the number of times special words occur (*special words are defined by us*)\n",
    "3. count the occurance all of cap words\n",
    "4. \n",
    "5. drop stop words\n",
    "6. lemmetize our words\n",
    "7. TF-IDF\n",
    "\n",
    "#### Import needed libraries:"
   ]
  },
  {
   "cell_type": "code",
   "execution_count": 3,
   "metadata": {},
   "outputs": [],
   "source": [
    "import pandas as pd\n",
    "import numpy as np\n",
    "import spacy\n",
    "import pickle\n"
   ]
  },
  {
   "cell_type": "markdown",
   "metadata": {},
   "source": [
    "#### Import the pickled DataFrames:"
   ]
  },
  {
   "cell_type": "code",
   "execution_count": 4,
   "metadata": {},
   "outputs": [],
   "source": [
    "pickle_in = open('Data/filtered_data_2.pkl','rb')\n",
    "example_dict = pickle.load(pickle_in)\n",
    "bus_reviews_df = pd.DataFrame(example_dict)\n",
    "\n",
    "pickle_in = open('Data/filtered_user_data.pkl','rb')\n",
    "example_dict_2 = pickle.load(pickle_in)\n",
    "user_reviews_df = pd.DataFrame(example_dict)"
   ]
  },
  {
   "cell_type": "code",
   "execution_count": null,
   "metadata": {},
   "outputs": [],
   "source": [
    "nlp = spacy.load('en_core_web_sm')\n",
    "doc = nlp(u'Apple is looking at buying U.K. startup for $1 billion')"
   ]
  }
 ],
 "metadata": {
  "kernelspec": {
   "display_name": "Python 3",
   "language": "python",
   "name": "python3"
  },
  "language_info": {
   "codemirror_mode": {
    "name": "ipython",
    "version": 3
   },
   "file_extension": ".py",
   "mimetype": "text/x-python",
   "name": "python",
   "nbconvert_exporter": "python",
   "pygments_lexer": "ipython3",
   "version": "3.7.3"
  }
 },
 "nbformat": 4,
 "nbformat_minor": 2
}
